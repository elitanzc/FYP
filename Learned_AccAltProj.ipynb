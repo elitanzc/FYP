{
 "cells": [
  {
   "attachments": {},
   "cell_type": "markdown",
   "metadata": {},
   "source": [
    "# Accelerated Alternating Projection\n",
    "\n",
    "Paper: https://arxiv.org/pdf/1711.05519.pdf\n",
    "\n",
    "Matlab Script: https://github.com/caesarcai/AccAltProj_for_RPCA/blob/master/AccAltProj.m\n",
    "\n",
    "Full Repository: https://github.com/caesarcai/AccAltProj_for_RPCA "
   ]
  },
  {
   "cell_type": "code",
   "execution_count": 355,
   "metadata": {},
   "outputs": [],
   "source": [
    "import numpy as np\n",
    "from numpy import linalg as LA\n",
    "import random\n",
    "from scipy.optimize import minimize\n",
    "import matplotlib.pyplot as plt\n",
    "import os\n",
    "import torch\n",
    "from torch import nn\n",
    "from torch.optim import Adam\n",
    "from torch.optim import SGD\n",
    "import math\n",
    "\n",
    "np.random.seed(0)\n",
    "torch.manual_seed(0)\n",
    "torch.set_printoptions(precision=3, sci_mode=False)"
   ]
  },
  {
   "cell_type": "code",
   "execution_count": 324,
   "metadata": {},
   "outputs": [],
   "source": [
    "## ======================== Parameters ========================\n",
    "d1 = 10                   # num. of rows\n",
    "d2 = 7                   # num. of columns\n",
    "ths_sparse_init = 5e-2      # initial value of threshold for sparse component\n",
    "# ths_sv_init = 1e-3        # initial value of threshold for singular values\n",
    "max_iter = 100              # num. of layers trained\n",
    "r = 2\n",
    "alpha = 0.4"
   ]
  },
  {
   "cell_type": "code",
   "execution_count": 356,
   "metadata": {},
   "outputs": [],
   "source": [
    "## Code to generate data for RPCA problem. References:\n",
    "## https://github.com/caesarcai/LRPCA/blob/main/synthetic_data_exp/training_codes.py \n",
    "## https://github.com/caesarcai/AccAltProj_for_RPCA/blob/master/test_AccAltProj.m\n",
    "\n",
    "def generate_problem(r,d1,d2,alpha):\n",
    "    c           = 1\n",
    "    U0_t \t\t= torch.randn(d1,r)\n",
    "    V0_t \t\t= torch.randn(d2,r)\n",
    "    L0_t \t\t= U0_t @ V0_t.t()\n",
    "    idx \t\t= torch.randperm(d1*d2)\n",
    "    idx \t\t= idx[:math.floor(alpha * d1*d2)]\n",
    "    s_range\t\t= c * torch.mean(torch.abs(L0_t))\n",
    "    S0_tmp \t\t= torch.rand(d1 * d2)\n",
    "    S0_tmp \t\t= s_range * (2.0 * S0_tmp - 1.0)\n",
    "    S0_t        = torch.zeros(d1 * d2)\n",
    "    S0_t[idx]   = S0_tmp[idx]\n",
    "    S0_t        = S0_t.reshape((d1,d2))\n",
    "    Y0_t        = L0_t + S0_t\n",
    "    return L0_t, S0_t, Y0_t"
   ]
  },
  {
   "attachments": {},
   "cell_type": "markdown",
   "metadata": {},
   "source": [
    "## Classical"
   ]
  },
  {
   "cell_type": "code",
   "execution_count": 357,
   "metadata": {},
   "outputs": [],
   "source": [
    "def thres(inputs, threshold, hard=True):\n",
    "    if not hard:\n",
    "        out = torch.sign(inputs) * torch.max(torch.abs(inputs)- threshold, torch.zeros([1,1]))\n",
    "    else:\n",
    "        out = torch.sign(inputs) * (nn.Threshold(threshold, 0)(torch.abs(inputs)))\n",
    "    return out\n",
    "\n",
    "def AccAltProj(M0, r, tol, gamma, max_iter):\n",
    "    m, n = M0.shape\n",
    "    norm_of_M0 = torch.linalg.norm(M0)\n",
    "    ## Keep track of loss\n",
    "    loss = []\n",
    "    ## Initialization\n",
    "    beta = 1/(2 * np.power(m * n, 1/4))\n",
    "    beta_init = 4 * beta\n",
    "    zeta = beta_init * torch.linalg.norm(M0, 2)\n",
    "    S = thres(M0, zeta)#, False)\n",
    "    U, Sigma, V = torch.linalg.svd(M0 - S, full_matrices=False)\n",
    "    U, Sigma, V = U[:,:r], Sigma[:r], V[:,:r]\n",
    "    L = U @ torch.diag(Sigma) @ V.t()\n",
    "    zeta = beta * Sigma[0]\n",
    "    S = thres(M0 - L, zeta)#, False)\n",
    "    ## Initial loss\n",
    "    err = torch.linalg.norm(M0 - L - S)/ norm_of_M0\n",
    "    loss.append(err)\n",
    "    for t in range(max_iter):\n",
    "        ## Update L\n",
    "        Z = M0 - S\n",
    "        Q1, R1 = torch.linalg.qr(Z.t() @ U - V @ ((Z @ V).t() @ U)) ## reduced QR\n",
    "        Q2, R2 = torch.linalg.qr(Z @ V - U @ (U.t() @ Z @ V)) ## reduced QR\n",
    "        A = torch.cat((torch.cat((U.t() @ Z @ V, R1.t()), 1), \n",
    "                        torch.cat((R2, torch.zeros(R2.shape)), 1)), 0)\n",
    "        Um, Sigma, Vm = torch.linalg.svd(A, full_matrices=False)\n",
    "        U = torch.cat((U, Q2), 1) @ Um[:,:r]\n",
    "        V = torch.cat((V, Q1), 1) @ Vm[:,:r]\n",
    "        L = U @ torch.diag(Sigma[:r]) @ V.t()\n",
    "        ## Update S\n",
    "        zeta = beta * (Sigma[r] + torch.pow(gamma, t + 1) * Sigma[0])\n",
    "        S = thres(M0 - L, zeta)#, False)\n",
    "        ## Compute error\n",
    "        err = torch.linalg.norm(M0 - L - S)/ norm_of_M0\n",
    "        loss.append(err)\n",
    "        if err < tol:\n",
    "            return loss, L, S\n",
    "    return loss, L, S"
   ]
  },
  {
   "cell_type": "code",
   "execution_count": 358,
   "metadata": {},
   "outputs": [],
   "source": [
    "## generate rank 2, 0.1-sparsity data\n",
    "L_true, S_true, M_true = generate_problem(r, d1, d2, alpha)"
   ]
  },
  {
   "cell_type": "code",
   "execution_count": 359,
   "metadata": {},
   "outputs": [],
   "source": [
    "## start with M_true, assuming known rank\n",
    "## error tolerance = 1e-5, gamma = 0.7, max_iter = 100\n",
    "loss, L_hat, S_hat = AccAltProj(M_true, r, 1e-5, torch.tensor(0.7), 100)"
   ]
  },
  {
   "cell_type": "code",
   "execution_count": 360,
   "metadata": {},
   "outputs": [
    {
     "data": {
      "image/png": "[encoded data removed]",
      "text/plain": [
       "<Figure size 432x288 with 1 Axes>"
      ]
     },
     "metadata": {
      "needs_background": "light"
     },
     "output_type": "display_data"
    }
   ],
   "source": [
    "plt.plot(loss)\n",
    "plt.title('Loss function along with the iterations')\n",
    "plt.show()"
   ]
  },
  {
   "cell_type": "code",
   "execution_count": 361,
   "metadata": {},
   "outputs": [
    {
     "name": "stdout",
     "output_type": "stream",
     "text": [
      "tensor(    0.000)\n"
     ]
    }
   ],
   "source": [
    "print(loss[-1])"
   ]
  },
  {
   "cell_type": "code",
   "execution_count": 362,
   "metadata": {},
   "outputs": [
    {
     "name": "stdout",
     "output_type": "stream",
     "text": [
      "tensor(1.259)\n"
     ]
    }
   ],
   "source": [
    "print(torch.linalg.norm(L_true - L_hat)/ torch.linalg.norm(L_true))\n",
    "# print(L_hat)\n",
    "# print(L_true)"
   ]
  },
  {
   "cell_type": "code",
   "execution_count": 363,
   "metadata": {},
   "outputs": [
    {
     "data": {
      "image/png": "[encoded data removed]",
      "text/plain": [
       "<Figure size 432x288 with 4 Axes>"
      ]
     },
     "metadata": {
      "needs_background": "light"
     },
     "output_type": "display_data"
    }
   ],
   "source": [
    "fig, [ax1, ax2] = plt.subplots(1,2)\n",
    "im1 = ax1.imshow(L_hat, vmin=torch.min(torch.cat((L_hat, L_true))), vmax = torch.max(torch.cat((L_hat, L_true))))\n",
    "ax1.set_title(\"L_hat\")\n",
    "plt.colorbar(im1, ax=ax1)\n",
    "im2 = ax2.imshow(L_true, vmin=torch.min(torch.cat((L_hat, L_true))), vmax = torch.max(torch.cat((L_hat, L_true))))\n",
    "ax2.set_title(\"L_true\")\n",
    "plt.colorbar(im2, ax=ax2)\n",
    "plt.show()"
   ]
  },
  {
   "cell_type": "code",
   "execution_count": 364,
   "metadata": {},
   "outputs": [
    {
     "name": "stdout",
     "output_type": "stream",
     "text": [
      "tensor(5.234)\n"
     ]
    }
   ],
   "source": [
    "print(torch.linalg.norm(S_true - S_hat, 1)/ torch.linalg.norm(S_true, 1))\n",
    "# print(S_hat)\n",
    "# print(S_true)"
   ]
  },
  {
   "cell_type": "code",
   "execution_count": 365,
   "metadata": {},
   "outputs": [
    {
     "data": {
      "image/png": "[encoded data removed]",
      "text/plain": [
       "<Figure size 432x288 with 4 Axes>"
      ]
     },
     "metadata": {
      "needs_background": "light"
     },
     "output_type": "display_data"
    }
   ],
   "source": [
    "fig, [ax1, ax2] = plt.subplots(1,2)\n",
    "im1 = ax1.imshow(S_hat, vmin=torch.min(torch.cat((S_hat, S_true))), vmax = torch.max(torch.cat((S_hat, S_true))))\n",
    "ax1.set_title(\"S_hat\")\n",
    "plt.colorbar(im1, ax=ax1)\n",
    "im2 = ax2.imshow(S_true, vmin=torch.min(torch.cat((S_hat, S_true))), vmax = torch.max(torch.cat((S_hat, S_true))))\n",
    "ax2.set_title(\"S_true\")\n",
    "plt.colorbar(im2, ax=ax2)\n",
    "plt.show()"
   ]
  },
  {
   "attachments": {},
   "cell_type": "markdown",
   "metadata": {},
   "source": [
    "## Unrolled version"
   ]
  },
  {
   "cell_type": "code",
   "execution_count": 35,
   "metadata": {},
   "outputs": [],
   "source": [
    "## ======================== Learned AccAltProj model ========================\n",
    "## recover low-rank matrix L from M = L + S\n",
    "\n",
    "class LearnedAAP(nn.Module):\n",
    "    def __init__(self, max_iter):\n",
    "        super().__init__()\n",
    "        self.ths_sparse = nn.ParameterList([nn.Parameter(torch.tensor(ths_sparse_init)) for t in range(max_iter)])\n",
    "        #self.ths_sv = nn.ParameterList([nn.Parameter(torch.tensor(ths_sv_init)) for t in range(max_iter + 1)])\n",
    "        self.loss = np.zeros(max_iter)\n",
    "\n",
    "    ## soft-thresholding operator\n",
    "    def softThres(self, inputs, threshold):\n",
    "        out = torch.sign(inputs) * torch.max(torch.abs(inputs)- threshold, torch.zeros([1,1]))\n",
    "        return out\n",
    "    \n",
    "    ## (ignore this)\n",
    "    def softThresSVD(self, U, Sigma, V, threshold): # reduce rank by thresholding singular values\n",
    "        cond = Sigma <= threshold\n",
    "        if len(cond.nonzero()) == 0:\n",
    "            return [U, Sigma - threshold, V]\n",
    "        else:\n",
    "            i = cond.nonzero()[0]\n",
    "            return [U[:,:i], Sigma[:i] - threshold, V[:,:i]]\n",
    "\n",
    "    ## Projection onto tangent space, following Page 6 of the paper\n",
    "    def proj(self, Z, U, V, r): # Z = M0 - S\n",
    "        [Q1, R1] = torch.linalg.qr(Z.t() @ U - V @ ((Z @ V).t() @ U))\n",
    "        [Q2, R2] = torch.linalg.qr(Z @ V - U @ (U.t() @ Z @ V))\n",
    "        ## A is the matrix M_k in Page 6 of the paper\n",
    "        A = torch.cat((torch.cat((U.t() @ Z @ V, R1.t()), 1), \n",
    "                        torch.cat((R2, torch.zeros(R2.shape)), 1)), 0)\n",
    "        Um, Sm, Vm = torch.linalg.svd(A, full_matrices=False)\n",
    "        U = torch.cat((U, Q2), 1) @ Um[:,:r]\n",
    "        V = torch.cat((V, Q1), 1) @ Vm[:,:r]\n",
    "        return U, Sm[:r], V ## returns truncated SVD of L_{k+1}\n",
    "\n",
    "    def forward(self, M0, r):\n",
    "        m, n = M0.shape\n",
    "        norm_of_M0 = torch.linalg.norm(M0)\n",
    "        ## Initialization\n",
    "        ## 1. this part follows the parameter value used in matlab code\n",
    "        beta = 1/(2 * np.power(m * n, 1/4)) # \n",
    "        beta_init = 4 * beta\n",
    "        ## 2. next 7 lines follows Algorithm (3) in Page 7 of the paper\n",
    "        zeta = beta_init * torch.linalg.norm(M0, 2)\n",
    "        S = self.softThres(M0, zeta)\n",
    "        U, Sigma, V = torch.linalg.svd(M0 - S, full_matrices=False)\n",
    "        U, Sigma, V = U[:,:r], Sigma[:r], V[:,:r]\n",
    "        L = U @ torch.diag(Sigma) @ V.t()\n",
    "        zeta = beta * Sigma[0]\n",
    "        S = self.softThres(M0 - L, zeta)\n",
    "        ## Main loop, follows Algorithm (1) in Page 5 of the paper\n",
    "        for t in range(max_iter):\n",
    "            # no trimming step here\n",
    "            # print(list(self.ths_sparse))\n",
    "            U, Sigma, V = self.proj(M0 - S, U, V, r) # calculate projection\n",
    "            L = U @ torch.diag(Sigma) @ V.t()\n",
    "            S = self.softThres(M0 - L, self.ths_sparse[t])\n",
    "            self.loss[t] = torch.linalg.norm(M0 - L - S)/ norm_of_M0\n",
    "        return L, S"
   ]
  },
  {
   "cell_type": "code",
   "execution_count": null,
   "metadata": {},
   "outputs": [],
   "source": [
    "## ======================== Training ========================\n",
    "net = LearnedAAP(max_iter)\n",
    "beforetrain=net(M_true, 2) # assumes knowledge of rank\n",
    "lossbftrain=np.array(net.loss)"
   ]
  },
  {
   "cell_type": "code",
   "execution_count": null,
   "metadata": {},
   "outputs": [],
   "source": [
    "optimizer=Adam(net.parameters(), lr=1e-5) # Adam algorithm will be learned to optimise paramaters\n",
    "\n",
    "nepochs = 20\n",
    "\n",
    "for epoch in range(nepochs):\n",
    "\n",
    "    for i in range(100):\n",
    "        # get the inputs\n",
    "        print(\"epoch\", epoch, \", \", i)\n",
    "        L0, S0, M0 = generate_problem(2, d1, d2, 0.1)\n",
    "        optimizer.zero_grad()\n",
    "        L_hat, S_hat = net(M0, 2)\n",
    "        loss = torch.linalg.norm(M0 - L_hat - S_hat)/ torch.linalg.norm(M0)\n",
    "        loss.backward()\n",
    "        optimizer.step()\n",
    "    \n",
    "    print('Epoch ' + str(epoch+1) +'/' + str(nepochs) +' at cost=' + str(round(loss.item(),3)))\n",
    "\n",
    "print('Finished Training')"
   ]
  },
  {
   "cell_type": "code",
   "execution_count": null,
   "metadata": {},
   "outputs": [],
   "source": [
    "L_hat, S_hat = net(M_true, 2)\n",
    "plt.plot(range(max_iter),net.loss,'r:',label='Loss after training')\n",
    "plt.plot(range(max_iter),lossbftrain,label='Loss before training')"
   ]
  }
 ],
 "metadata": {
  "kernelspec": {
   "display_name": "Python 3.8.1 64-bit",
   "language": "python",
   "name": "python3"
  },
  "language_info": {
   "codemirror_mode": {
    "name": "ipython",
    "version": 3
   },
   "file_extension": ".py",
   "mimetype": "text/x-python",
   "name": "python",
   "nbconvert_exporter": "python",
   "pygments_lexer": "ipython3",
   "version": "3.8.1"
  },
  "orig_nbformat": 4,
  "vscode": {
   "interpreter": {
    "hash": "aee8b7b246df8f9039afb4144a1f6fd8d2ca17a180786b69acc140d282b71a49"
   }
  }
 },
 "nbformat": 4,
 "nbformat_minor": 2
}
