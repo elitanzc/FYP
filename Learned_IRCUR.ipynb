{
 "cells": [
  {
   "attachments": {},
   "cell_type": "markdown",
   "metadata": {},
   "source": [
    "# IRCUR\n",
    "\n",
    "Paper: https://arxiv.org/pdf/2010.07422.pdf\n",
    "\n",
    "Matlab Script: https://github.com/caesarcai/IRCUR/blob/master/IRCUR.m\n",
    "\n",
    "Full Repository: https://github.com/caesarcai/IRCUR\n",
    "\n",
    "Related paper that is more recent: https://arxiv.org/pdf/2206.09042.pdf (on Riemannian CUR)"
   ]
  },
  {
   "cell_type": "code",
   "execution_count": 1,
   "metadata": {},
   "outputs": [
    {
     "data": {
      "text/plain": [
       "<torch._C.Generator at 0x7fe1358a4310>"
      ]
     },
     "execution_count": 1,
     "metadata": {},
     "output_type": "execute_result"
    }
   ],
   "source": [
    "import numpy as np\n",
    "from numpy import linalg as LA\n",
    "import random\n",
    "from scipy.optimize import minimize\n",
    "import matplotlib.pyplot as plt\n",
    "import os\n",
    "import torch\n",
    "from torch import nn\n",
    "from torch.optim import Adam\n",
    "from torch.optim import SGD\n",
    "import math\n",
    "\n",
    "np.random.seed(0)\n",
    "torch.manual_seed(0)"
   ]
  },
  {
   "cell_type": "code",
   "execution_count": 9,
   "metadata": {},
   "outputs": [],
   "source": [
    "## ======================== Parameters ========================\n",
    "d1 = 100                   # num. of rows\n",
    "d2 = 70                   # num. of columns\n",
    "max_iter = 100              # num. of layers trained"
   ]
  },
  {
   "cell_type": "code",
   "execution_count": 3,
   "metadata": {},
   "outputs": [],
   "source": [
    "## Code to generate data for RPCA problem. References:\n",
    "## https://github.com/caesarcai/LRPCA/blob/main/synthetic_data_exp/training_codes.py \n",
    "## https://github.com/caesarcai/AccAltProj_for_RPCA/blob/master/test_AccAltProj.m\n",
    "\n",
    "def generate_problem(r,d1,d2,alpha):\n",
    "    U0_t \t\t= torch.randn(d1,r)\n",
    "    V0_t \t\t= torch.randn(d2,r)\n",
    "    idx \t\t= torch.randperm(d1*d2)\n",
    "    idx \t\t= idx[:math.floor(alpha * d1*d2)]\n",
    "    L0_t \t\t= torch.mm(U0_t,V0_t.t())\n",
    "    s_range\t\t= torch.mean(torch.abs(L0_t))\n",
    "    S0_tmp \t\t= torch.rand(len(idx))\n",
    "    S0_tmp \t\t= s_range * (2.0 * S0_tmp - 1.0)\n",
    "    S0_t        = torch.zeros(d1 * d2)\n",
    "    S0_t[idx]   = S0_tmp\n",
    "    S0_t        = S0_t.reshape((d1,d2))\n",
    "    Y0_t        = L0_t + S0_t\n",
    "    return L0_t, S0_t, Y0_t"
   ]
  },
  {
   "cell_type": "code",
   "execution_count": 22,
   "metadata": {},
   "outputs": [],
   "source": [
    "## ======================== Learned AccAltProj model ========================\n",
    "## recover low-rank matrix L from M = L + S\n",
    "\n",
    "# ======================== One Layer of the NN ========================\n",
    "class AltProj(nn.Module):\n",
    "    def __init__(self):\n",
    "        super().__init__()\n",
    "        self.gamma = nn.Parameter(torch.tensor(0.7)) # parameter for sparse component, follows the value used in matlab script (line 39)\n",
    "        self.ths_sv = nn.Parameter(torch.tensor(1.0)) # parameter for low rank component\n",
    "\n",
    "    ## resampling function, follows lines 123-126 of the Matlab script\n",
    "    def resample(self, m, n, siz_row, siz_col):\n",
    "        rows = np.random.randint(0, m, size=[1, siz_row])\n",
    "        cols = np.random.randint(0, n, size=[1, siz_col])\n",
    "        return [np.unique(rows), np.unique(cols)]\n",
    "    \n",
    "    ## soft-thresholding operator\n",
    "    def softThres(self, inputs, threshold):\n",
    "        out = torch.sign(inputs) * torch.maximum(torch.abs(inputs)- threshold, torch.zeros([1,1]))\n",
    "        return out\n",
    "\n",
    "    def forward(self, M0, C, pinv_U, R, siz_row, siz_col, zeta_init):\n",
    "        ## resample rows and columns\n",
    "        m, n = M0.shape\n",
    "        rows, cols = self.resample(m, n, siz_row, siz_col)\n",
    "        M0_rows = M0[rows, :]\n",
    "        M0_cols = M0[:, cols]\n",
    "        norm_of_M0 = torch.linalg.norm(M0_rows) + torch.linalg.norm(M0_cols)\n",
    "        ## compute submatrices of L from previous iteration\n",
    "        L_rows = C[rows, :] @ pinv_U @ R\n",
    "        L_cols = C @ pinv_U @ R[:, cols]\n",
    "        ## update S using submatrices of L\n",
    "        S_rows = M0_rows - L_rows\n",
    "        S_rows = self.softThres(S_rows, self.gamma * zeta_init)\n",
    "        S_cols = M0_cols - L_cols\n",
    "        S_cols = self.softThres(S_cols, self.gamma * zeta_init)\n",
    "        ## update L\n",
    "        C = M0_cols - S_cols\n",
    "        R = M0_rows - S_rows\n",
    "        MU = C[rows, :]\n",
    "        U,Sigma,V = torch.linalg.svd(MU)\n",
    "        ## calculate Moore-Penrose inverse of Sigma\n",
    "        Sigma_inv = torch.zeros(size=Sigma.shape)\n",
    "        mask = (Sigma != 0)\n",
    "        Sigma_inv[mask] = torch.div(1, Sigma[mask])\n",
    "        ## I soft-thresholded the values here, in the original algorithm it should be truncated at the rth value\n",
    "        Sigma_inv = self.softThres(Sigma_inv, self.ths_sv).flatten()\n",
    "        pinv_U = V[:, :min(V.shape[1], U.shape[1])] @ torch.diag(Sigma_inv) @ U[:, :min(V.shape[1], U.shape[1])].t()\n",
    "        ## compute err using previous L and current S, as done in the matlab script (lines 160-162)\n",
    "        loss = (torch.linalg.norm(M0_rows - L_rows - S_rows) + torch.linalg.norm(M0_cols - L_cols - S_cols))/ norm_of_M0\n",
    "        return C, pinv_U, R, loss\n",
    "\n",
    "## ======================== Full NN with layers stacked ========================\n",
    "class LearnedIRCUR(nn.Module):\n",
    "    def __init__(self, max_iter):\n",
    "        super().__init__()\n",
    "        self.max_iter = max_iter\n",
    "        self.layer=[]\n",
    "        for i in range(max_iter):\n",
    "            self.layer.append(AltProj())\n",
    "        self.layers=nn.Sequential(*self.layer) ## stack layers together\n",
    "        self.loss=np.zeros(max_iter)\n",
    "    \n",
    "    def forward(self, M0, r, con): \n",
    "        ## r (rank) and con (constant between 3 and 5) needed to estimate number of rows and cols sampled\n",
    "        ## sampling size = O(rlog(n)) = con * r * log(n) by Theorem 4 (page 3) of the paper\n",
    "        ## sampling constant con is between 3 and 5 from numerical results (Section 4, page 7-8)\n",
    "        m, n = M0.shape\n",
    "        siz_row, siz_col = np.ceil(con * r * np.log(m)).astype(np.int64), np.ceil(con * r * np.log(n)).astype(np.int64)\n",
    "        ## start with L0 = C @ pinv_U @ R = 0\n",
    "        C, pinv_U, R = torch.zeros(M0.shape), torch.zeros([M0.shape[1], M0.shape[0]]), torch.zeros(M0.shape)\n",
    "        ## initialize threshold for updating sparse component\n",
    "        zeta_init = torch.max(torch.abs(M0)) ## follows matlab script (line 38) and Section 3.5 (page 6) of paper\n",
    "        for i in range(self.max_iter):\n",
    "            lay = self.layers[i]\n",
    "            C, pinv_U, R, self.loss[i] = lay(M0, C, pinv_U, R, siz_row, siz_col, zeta_init)\n",
    "        return C, pinv_U, R"
   ]
  },
  {
   "cell_type": "code",
   "execution_count": 24,
   "metadata": {},
   "outputs": [],
   "source": [
    "L_true, S_true, M_true = generate_problem(5, d1, d2, 0.3)"
   ]
  },
  {
   "cell_type": "code",
   "execution_count": 25,
   "metadata": {},
   "outputs": [],
   "source": [
    "net = LearnedIRCUR(max_iter)\n",
    "beforetrain=net(M_true, 5, 3) # assumes knowledge of rank = 5, and sampling constant chosen as 3\n",
    "lossbftrain=np.array(net.loss)"
   ]
  },
  {
   "cell_type": "code",
   "execution_count": null,
   "metadata": {},
   "outputs": [],
   "source": [
    "optimizer=Adam(net.parameters())\n",
    "\n",
    "nepochs = 20 \n",
    "train_sample = 100\n",
    "for epoch in range(nepochs):  # loop over the dataset multiple times\n",
    "\n",
    "    for i in range(train_sample):\n",
    "        # get the inputs; data is a list of [inputs, groundtruth]\n",
    "        L0, S0, M0 = generate_problem(5, d1, d2, 0.3)\n",
    "        # zero the parameter gradients\n",
    "        optimizer.zero_grad()\n",
    "        C, pinv_U, R = net(M0, 5, 3)\n",
    "        L_hat = C@pinv_U@R\n",
    "        loss = torch.linalg.norm(L_hat - L0)\n",
    "        # loss = (C@pinv_U@R - L0).norm() ## Frobenius norm of estimated L - L0, to be changed afterwards\n",
    "        loss.backward()\n",
    "        optimizer.step()\n",
    "    \n",
    "    print('Epoch ' + str(epoch+1) +'/' + str(nepochs) +' at cost=' + str(round(loss.item(),3)))\n",
    "\n",
    "print('Finished Training')"
   ]
  },
  {
   "cell_type": "code",
   "execution_count": 28,
   "metadata": {},
   "outputs": [
    {
     "data": {
      "image/png": "[encoded data removed]",
      "text/plain": [
       "<Figure size 432x288 with 1 Axes>"
      ]
     },
     "metadata": {
      "needs_background": "light"
     },
     "output_type": "display_data"
    }
   ],
   "source": [
    "#output = net(M_true, 5, 4)\n",
    "#plt.plot(range(max_iter),net.loss,'r:',label='Loss after training')\n",
    "plt.plot(range(max_iter),lossbftrain,label='Loss before training')\n",
    "plt.legend()\n",
    "plt.show()"
   ]
  }
 ],
 "metadata": {
  "kernelspec": {
   "display_name": "Python 3.8.1 64-bit",
   "language": "python",
   "name": "python3"
  },
  "language_info": {
   "codemirror_mode": {
    "name": "ipython",
    "version": 3
   },
   "file_extension": ".py",
   "mimetype": "text/x-python",
   "name": "python",
   "nbconvert_exporter": "python",
   "pygments_lexer": "ipython3",
   "version": "3.8.1"
  },
  "orig_nbformat": 4,
  "vscode": {
   "interpreter": {
    "hash": "aee8b7b246df8f9039afb4144a1f6fd8d2ca17a180786b69acc140d282b71a49"
   }
  }
 },
 "nbformat": 4,
 "nbformat_minor": 2
}
